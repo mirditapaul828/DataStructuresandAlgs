{
 "cells": [
  {
   "cell_type": "markdown",
   "id": "8af8997a",
   "metadata": {},
   "source": [
    "# Data Structures and Algorithms Questions"
   ]
  },
  {
   "cell_type": "markdown",
   "id": "33bc53c4",
   "metadata": {},
   "source": [
    "###  Is Unique: Implement an algorithm to determine if all characters in a string are unique. What if you cannot use additional data structures?"
   ]
  },
  {
   "cell_type": "code",
   "execution_count": 17,
   "id": "f4f47f8a",
   "metadata": {},
   "outputs": [
    {
     "name": "stdout",
     "output_type": "stream",
     "text": [
      "False\n"
     ]
    }
   ],
   "source": [
    "#Solution 1 - using lists\n",
    "\n",
    "'''\n",
    "1. Create a temporary list to store letters\n",
    "2. Iterate through each letter\n",
    "3. Set conditions: \n",
    "   If the letter is not in the temporary list, append the letter to it.\n",
    "   Else, the characters is the string are not all unique -> Return False\n",
    "4. If all of the letters are unique -> return True\n",
    "'''\n",
    "\n",
    "tempList = list()\n",
    "\n",
    "def uniqueString(exampleString):\n",
    "    \n",
    "    #Iterating character by character -> ['h', 'e', 'l', 'l', 'o']\n",
    "    for i in exampleString:\n",
    "        #Check if the letter exists in the list you created\n",
    "        if i in tempList:      #If it does, it means it's being repeated\n",
    "            return False\n",
    "        else:                  #Else, append and continue routine\n",
    "            tempList.append(i)\n",
    "    \n",
    "    return True\n",
    "\n",
    "answer = uniqueString('hello')\n",
    "print(answer)"
   ]
  },
  {
   "cell_type": "code",
   "execution_count": 18,
   "id": "799b19e0",
   "metadata": {},
   "outputs": [
    {
     "name": "stdout",
     "output_type": "stream",
     "text": [
      "False\n"
     ]
    }
   ],
   "source": [
    "#Solution 2 - Faster method using Dictionaries\n",
    "\n",
    "#Use a dictionary for quick access\n",
    "tempDict = dict()\n",
    "\n",
    "def uniqueString(exampleString):\n",
    "    \n",
    "    #Check if the string length is over 128\n",
    "    #ASCII has a limit of 128 unique characters\n",
    "    if len(exampleString) > 128:\n",
    "        return False\n",
    "    \n",
    "    for i in exampleString:\n",
    "        if i in tempDict:\n",
    "            return False\n",
    "        \n",
    "        tempDict[i] = True\n",
    "    \n",
    "    return True\n",
    "\n",
    "answer = uniqueString('hello')\n",
    "print(answer)"
   ]
  },
  {
   "cell_type": "code",
   "execution_count": 19,
   "id": "b9d52895",
   "metadata": {},
   "outputs": [
    {
     "data": {
      "text/plain": [
       "\"\\nWhat if you can't use any data structures?\\nMethod 1: Compare characters in the string with every other character in the string. This requires 2 for loops which is O(N^2)\\nMethod 2: Use a sorting algorithm to sort them. Compare any neighboring characters and check if they are unique\\n\""
      ]
     },
     "execution_count": 19,
     "metadata": {},
     "output_type": "execute_result"
    }
   ],
   "source": [
    "'''\n",
    "What if you can't use any data structures?\n",
    "Method 1: Compare characters in the string with every other character in the string. This requires 2 for loops which is O(N^2)\n",
    "Method 2: Use a sorting algorithm to sort them. Compare any neighboring characters and check if they are unique\n",
    "'''"
   ]
  },
  {
   "cell_type": "code",
   "execution_count": null,
   "id": "afdca414",
   "metadata": {},
   "outputs": [],
   "source": []
  },
  {
   "cell_type": "markdown",
   "id": "1ddf5d06",
   "metadata": {},
   "source": [
    "### Check permutation: Given two strings, write a method to decide if one is a permutation of the other"
   ]
  },
  {
   "cell_type": "code",
   "execution_count": 24,
   "id": "df519c37",
   "metadata": {},
   "outputs": [
    {
     "name": "stdout",
     "output_type": "stream",
     "text": [
      "True\n"
     ]
    }
   ],
   "source": [
    "#Solution 1: \n",
    "\n",
    "#Time Complexity: O(2N)\n",
    "\n",
    "'''\n",
    "1. We have two strings: String 1 and String 2\n",
    "2. Create a hash table for every letter in string 1 and string 2 and assign a count for the number of times they appear\n",
    "   Example: hello -> char: count -> {h: 1, e: 1, l: 2, o: 1}\n",
    "3. Compare both dictionaries. If they equal, then they are permutations\n",
    "'''\n",
    "\n",
    "charDict1 = {}\n",
    "charDict2 = {}\n",
    "\n",
    "def checkPermutation(string1, string2):\n",
    "    \n",
    "    #Check if the lengths of the two strings are the same\n",
    "    if(len(string1) != len(string2)):\n",
    "        return False\n",
    "    \n",
    "    for char in string1:\n",
    "        if char not in charDict1:\n",
    "            charDict1[char] = 1\n",
    "        else:\n",
    "            charDict1[char] += 1\n",
    "    \n",
    "    for char in string2:\n",
    "        if char not in charDict2:\n",
    "            charDict2[char] = 1\n",
    "        else:\n",
    "            charDict2[char] += 1\n",
    "    \n",
    "    if(charDict1 == charDict2):\n",
    "        return True\n",
    "    else:\n",
    "        return False\n",
    "        \n",
    "        \n",
    "answer = checkPermutation('hello', 'ellho')\n",
    "print(answer)"
   ]
  },
  {
   "cell_type": "code",
   "execution_count": 28,
   "id": "50b7dc6f",
   "metadata": {},
   "outputs": [
    {
     "name": "stdout",
     "output_type": "stream",
     "text": [
      "True\n"
     ]
    }
   ],
   "source": [
    "#Solution 2: Sorting\n",
    "\n",
    "'''\n",
    "1. We have two strings: String 1 and String 2\n",
    "2. Sort String 1\n",
    "3. Sort String 2\n",
    "4. If both are equal, they are permutations\n",
    "'''\n",
    "\n",
    "def checkPermutation(string1, string2):\n",
    "    if len(string1) != len(string2):\n",
    "        return False\n",
    "    \n",
    "    return sorted(string1) == sorted(string2)\n",
    "\n",
    "answer = checkPermutation('hello', 'ellho')\n",
    "print(answer)"
   ]
  },
  {
   "cell_type": "code",
   "execution_count": null,
   "id": "7a3d73c3",
   "metadata": {},
   "outputs": [],
   "source": []
  },
  {
   "cell_type": "markdown",
   "id": "d74b57c8",
   "metadata": {},
   "source": [
    "### URLify : Write a method to replace all the spaces in a string with ‘%20’. You may assume that the string has sufficient space at the end to hold the additional characters and that you are given the “true” length of the string."
   ]
  },
  {
   "cell_type": "code",
   "execution_count": 44,
   "id": "b8525698",
   "metadata": {},
   "outputs": [
    {
     "name": "stdout",
     "output_type": "stream",
     "text": [
      "Mr%20John%20Smith\n"
     ]
    }
   ],
   "source": [
    "#Solution 1:\n",
    "'''\n",
    "The solution is to work backwards\n",
    "'''\n",
    "# string: Mr John Smith -> Mr%20John%20Smith\n",
    "\n",
    "def urlIfy(spacedString):\n",
    "    \n",
    "    #Turn spacedString into array/list\n",
    "    spacedString = list(spacedString)\n",
    "    \n",
    "    for index, char in enumerate(spacedString):\n",
    "        if char == ' ':\n",
    "            spacedString[index] = '%20'\n",
    "    \n",
    "    #Join the list together and convert into string\n",
    "    return ''.join(spacedString)\n",
    "\n",
    "answer = urlIfy('Mr John Smith')\n",
    "print(answer)"
   ]
  },
  {
   "cell_type": "code",
   "execution_count": null,
   "id": "c2167d81",
   "metadata": {},
   "outputs": [],
   "source": []
  },
  {
   "cell_type": "markdown",
   "id": "ff15805c",
   "metadata": {},
   "source": [
    "### Palindrome Permutation: Given a string, write a function to check if it is a permutation of a palindrome. A palindrome is a word or phrase that is the same forwards and backwards. A permutation is a rearrangement of letters.The palindrome does not need to be limited to just dictionary words. You can ignore casing and non-letter characters."
   ]
  },
  {
   "cell_type": "code",
   "execution_count": 79,
   "id": "172cb901",
   "metadata": {},
   "outputs": [
    {
     "data": {
      "text/plain": [
       "False"
      ]
     },
     "execution_count": 79,
     "metadata": {},
     "output_type": "execute_result"
    }
   ],
   "source": [
    "#solution 1: Hash table approach\n",
    "\n",
    "tempDict = {}\n",
    "\n",
    "def palindromePermutation(exampleString):\n",
    "    \n",
    "    countOdd = 0\n",
    "    \n",
    "    #Use a for loop to put them into a hash table\n",
    "    #key-value --> letter-count\n",
    "    for i in exampleString:\n",
    "        \n",
    "        if i in tempDict:\n",
    "            tempDict[i] += 1\n",
    "        else:\n",
    "            tempDict[i] = 1\n",
    "    \n",
    "    for count in tempDict.values():\n",
    "        countOdd += count % 2\n",
    "            \n",
    "    return countOdd <= 1\n",
    "\n",
    "palindromePermutation('helloqlleh')"
   ]
  },
  {
   "cell_type": "code",
   "execution_count": null,
   "id": "33452e24",
   "metadata": {},
   "outputs": [],
   "source": []
  },
  {
   "cell_type": "markdown",
   "id": "0cb32c65",
   "metadata": {},
   "source": [
    "### One Away: There are three types of edits that can be performed on strings: insert a character, remove a character, or replace a character. Given two strings, write a function to check if they are one edit (or zero edits) away."
   ]
  },
  {
   "cell_type": "code",
   "execution_count": 30,
   "id": "1a85e581",
   "metadata": {},
   "outputs": [],
   "source": [
    "'''\n",
    "The thought process here is the following:\n",
    "1. ple, pale -> True (insert a)\n",
    "2. pales, pale -> True (remove s)\n",
    "3. pale, bale -> True (replace p)\n",
    "4. pale, bake -> False (2 moves needed - cannot do this)\n",
    "'''\n",
    "\n",
    "def replaceOne(string1, string2):\n",
    "    \n",
    "    count = 0\n",
    "    \n",
    "    for i in range(len(string1)):\n",
    "        if string1[i] != string2[i]:\n",
    "            count = count + 1\n",
    "        \n",
    "    return count <= 1\n",
    "        \n",
    "\n",
    "def oneEditInsert(string1, string2):\n",
    "\n",
    "    index1 = 0\n",
    "    index2 = 0\n",
    "    \n",
    "    while(index1 < len(string1) and index2 < len(string2)):\n",
    "        if string1[index1] != string2[index2]:\n",
    "            if index1 != index2:\n",
    "                return False\n",
    "            index2 = index2+1\n",
    "            \n",
    "        else:\n",
    "            index1 = index1 + 1\n",
    "            index2 = index2 + 1\n",
    "    \n",
    "    return True\n",
    "\n",
    "\n",
    "def oneEditAway(string1, string2):\n",
    "    if len(string1) == len(string2):\n",
    "        return replaceOne(string1, string2)\n",
    "    \n",
    "    elif (len(string1) + 1 == len(string2)):\n",
    "        oneEditInsert(string1, string2)\n",
    "        \n",
    "    elif (len(string1) - 1 == len(string2)):\n",
    "        oneEditInsert(string2, string1)\n",
    "        \n",
    "    return False\n",
    "    "
   ]
  },
  {
   "cell_type": "code",
   "execution_count": 31,
   "id": "f97298c6",
   "metadata": {},
   "outputs": [
    {
     "data": {
      "text/plain": [
       "False"
      ]
     },
     "execution_count": 31,
     "metadata": {},
     "output_type": "execute_result"
    }
   ],
   "source": [
    "oneEditAway('hello', 'helloo')"
   ]
  },
  {
   "cell_type": "code",
   "execution_count": null,
   "id": "2af10985",
   "metadata": {},
   "outputs": [],
   "source": []
  },
  {
   "cell_type": "markdown",
   "id": "81f818fa",
   "metadata": {},
   "source": [
    "### StringCompression"
   ]
  },
  {
   "cell_type": "code",
   "execution_count": 10,
   "id": "840f7117",
   "metadata": {},
   "outputs": [],
   "source": [
    "\n",
    "\n",
    "def stringCompressor(exampleString):\n",
    "    \n",
    "    #Created a empty string to append to\n",
    "    stringCompressed = \"\"\n",
    "    \n",
    "    #Created a counter for every consecutive number\n",
    "    consecutiveCount = 0\n",
    "    \n",
    "    for i in range(len(exampleString)):\n",
    "        \n",
    "        #Start the counter\n",
    "        consecutiveCount = consecutiveCount + 1\n",
    "        \n",
    "        #If the next letter surpasses the length of the original string OR if current letter and next letter don't equate\n",
    "        if(i+1 >= len(exampleString) or exampleString[i] != exampleString[i+1]):\n",
    "            #Append to string -> letter+count\n",
    "            stringCompressed = stringCompressed + exampleString[i] + str(consecutiveCount)\n",
    "            #Reset the counter to 0\n",
    "            consecutiveCount = 0\n",
    "    \n",
    "    if len(stringCompressed) < len(exampleString):\n",
    "        return stringCompressed\n",
    "    else: \n",
    "        return exampleString"
   ]
  },
  {
   "cell_type": "code",
   "execution_count": 11,
   "id": "556033c3",
   "metadata": {},
   "outputs": [
    {
     "data": {
      "text/plain": [
       "'h1e1l10o7'"
      ]
     },
     "execution_count": 11,
     "metadata": {},
     "output_type": "execute_result"
    }
   ],
   "source": [
    "stringCompressor('hellllllllllooooooo')"
   ]
  },
  {
   "cell_type": "code",
   "execution_count": null,
   "id": "653383e6",
   "metadata": {},
   "outputs": [],
   "source": []
  },
  {
   "cell_type": "markdown",
   "id": "f876003e",
   "metadata": {},
   "source": [
    "### Rotate Matrix: Given an image represented by an N X N matrix, where each pixel in the image is 4 bytes, write a method to rotate the image by 90 degrees. Can you do this in place. "
   ]
  },
  {
   "cell_type": "code",
   "execution_count": 80,
   "id": "5470e43d",
   "metadata": {},
   "outputs": [],
   "source": [
    "'''\n",
    "Solution #1:\n",
    "Reverse on diagonal and then reverse left to right\n",
    "'''\n",
    "\n",
    "def transpose(matrix):\n",
    "    n = len(matrix)\n",
    "    for i in range(n):\n",
    "        for j in range(i + 1, n):\n",
    "            matrix[j][i], matrix[i][j] = matrix[i][j], matrix[j][i]\n",
    "            \n",
    "    return matrix\n",
    "\n",
    "def reflect(matrix):\n",
    "    n = len(matrix)\n",
    "    for i in range(n):\n",
    "        for j in range(n // 2):\n",
    "            matrix[i][j], matrix[i][-j - 1] = matrix[i][-j - 1], matrix[i][j]\n",
    "    \n",
    "    return matrix\n",
    "\n",
    "def rotate(matrix):\n",
    "    matrix = transpose(matrix)\n",
    "    matrix = reflect(matrix)\n",
    "    \n",
    "    return matrix"
   ]
  },
  {
   "cell_type": "code",
   "execution_count": 87,
   "id": "fc9a9b2f",
   "metadata": {},
   "outputs": [],
   "source": [
    "'''\n",
    "Solution #2:\n",
    "Rotate groups of 4 cells\n",
    "https://leetcode.com/problems/rotate-image/solution/\n",
    "'''\n",
    "\n",
    "def rotate(matrix):\n",
    "    n = len(matrix[0])\n",
    "    for i in range(n // 2 + n % 2):\n",
    "        for j in range(n // 2):\n",
    "            tmp = matrix[n - 1 - j][i]\n",
    "            matrix[n - 1 - j][i] = matrix[n - 1 - i][n - j - 1]\n",
    "            matrix[n - 1 - i][n - j - 1] = matrix[j][n - 1 -i]\n",
    "            matrix[j][n - 1 - i] = matrix[i][j]\n",
    "            matrix[i][j] = tmp\n",
    "    return matrix"
   ]
  },
  {
   "cell_type": "code",
   "execution_count": 88,
   "id": "9f76f05e",
   "metadata": {},
   "outputs": [],
   "source": [
    "matrix = [\n",
    "    [10, 40, 50, 60],\n",
    "    [20, 60, 70, 50],\n",
    "    [40, 30, 90, 40],\n",
    "    [80, 20, 10, 20]\n",
    "]"
   ]
  },
  {
   "cell_type": "code",
   "execution_count": 89,
   "id": "7586e11b",
   "metadata": {},
   "outputs": [
    {
     "data": {
      "text/plain": [
       "[[80, 40, 20, 10], [20, 30, 60, 40], [10, 90, 70, 50], [20, 40, 50, 60]]"
      ]
     },
     "execution_count": 89,
     "metadata": {},
     "output_type": "execute_result"
    }
   ],
   "source": [
    "rotate(matrix)"
   ]
  },
  {
   "cell_type": "code",
   "execution_count": 70,
   "id": "fd1b6031",
   "metadata": {},
   "outputs": [
    {
     "data": {
      "text/plain": [
       "range(0, 4)"
      ]
     },
     "execution_count": 70,
     "metadata": {},
     "output_type": "execute_result"
    }
   ],
   "source": [
    "range(len(matrix))"
   ]
  },
  {
   "cell_type": "code",
   "execution_count": null,
   "id": "e8dbdb12",
   "metadata": {},
   "outputs": [],
   "source": []
  },
  {
   "cell_type": "code",
   "execution_count": null,
   "id": "64f36155",
   "metadata": {},
   "outputs": [],
   "source": []
  }
 ],
 "metadata": {
  "kernelspec": {
   "display_name": "Python 3 (ipykernel)",
   "language": "python",
   "name": "python3"
  },
  "language_info": {
   "codemirror_mode": {
    "name": "ipython",
    "version": 3
   },
   "file_extension": ".py",
   "mimetype": "text/x-python",
   "name": "python",
   "nbconvert_exporter": "python",
   "pygments_lexer": "ipython3",
   "version": "3.9.7"
  }
 },
 "nbformat": 4,
 "nbformat_minor": 5
}
